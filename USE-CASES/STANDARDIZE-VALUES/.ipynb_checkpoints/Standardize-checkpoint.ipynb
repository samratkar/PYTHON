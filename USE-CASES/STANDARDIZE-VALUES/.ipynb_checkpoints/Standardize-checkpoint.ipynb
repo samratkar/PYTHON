{
 "cells": [
  {
   "cell_type": "markdown",
   "metadata": {},
   "source": [
    "**QUESTION 1**\n",
    "The given data frame 'customer' has a column 'Cust_id' which has values Cust_1, Cust_2 and so on.\n",
    "Remove the repeated 'Cust_' from the column Cust_id so that the output column Cust_id have just numbers like 1, 2, 3 and so on.\n",
    "Print the first 10 rows of the dataset  'customer' after processing."
   ]
  },
  {
   "cell_type": "code",
   "execution_count": 7,
   "metadata": {},
   "outputs": [
    {
     "name": "stdout",
     "output_type": "stream",
     "text": [
      "        Customer_Name Province   Region Customer_Segment Cust_id\n",
      "0  MUHAMMED MACINTYRE  NUNAVUT  NUNAVUT   SMALL BUSINESS       1\n",
      "1        BARRY FRENCH  NUNAVUT  NUNAVUT         CONSUMER       2\n",
      "2       CLAY ROZENDAL  NUNAVUT  NUNAVUT        CORPORATE       3\n",
      "3      CARLOS SOLTERO  NUNAVUT  NUNAVUT         CONSUMER       4\n",
      "4        CARL JACKSON  NUNAVUT  NUNAVUT        CORPORATE       5\n",
      "5      MONICA FEDERLE  NUNAVUT  NUNAVUT        CORPORATE       6\n",
      "6     DOROTHY BADDERS  NUNAVUT  NUNAVUT      HOME OFFICE       7\n",
      "7     NEOLA SCHNEIDER  NUNAVUT  NUNAVUT      HOME OFFICE       8\n",
      "8         CARLOS DALY  NUNAVUT  NUNAVUT      HOME OFFICE       9\n",
      "9       CLAUDIA MINER  NUNAVUT  NUNAVUT   SMALL BUSINESS      10\n"
     ]
    }
   ],
   "source": [
    "import pandas as pd\n",
    "customer = pd.read_csv('https://query.data.world/s/y9rxL9mGdP6AXPiDaIL4yYm6DsfTV2')\n",
    "customer['Cust_id'] = customer['Cust_id'].str.lstrip('Cust_')\n",
    "print(customer.head(10))"
   ]
  },
  {
   "cell_type": "markdown",
   "metadata": {},
   "source": [
    "**QUESTION 2** The given dataframe 'sleepstudy' has a column 'Reaction' with floating integer values up to 4 decimal places. Round off the decimal places to 1."
   ]
  },
  {
   "cell_type": "code",
   "execution_count": 3,
   "metadata": {},
   "outputs": [
    {
     "name": "stdout",
     "output_type": "stream",
     "text": [
      "    Reaction  Days  Subject\n",
      "1      249.6     0      308\n",
      "2      258.7     1      308\n",
      "3      250.8     2      308\n",
      "4      321.4     3      308\n",
      "5      356.9     4      308\n",
      "6      414.7     5      308\n",
      "7      382.2     6      308\n",
      "8      290.1     7      308\n",
      "9      430.6     8      308\n",
      "10     466.4     9      308\n"
     ]
    }
   ],
   "source": [
    "from pydataset import data\n",
    "sleepstudy =data('sleepstudy')\n",
    "\n",
    "sleepstudy['Reaction'] = sleepstudy['Reaction'].round(1)\n",
    "\n",
    "print(sleepstudy.head(10))"
   ]
  },
  {
   "cell_type": "markdown",
   "metadata": {},
   "source": [
    "**QUESTION 3** The given Dataframe 'rating' has repeated rows. You need to remove the duplicated rows. "
   ]
  },
  {
   "cell_type": "code",
   "execution_count": 4,
   "metadata": {},
   "outputs": [
    {
     "name": "stdout",
     "output_type": "stream",
     "text": [
      "(1254, 5)\n",
      "(1149, 5)\n"
     ]
    }
   ],
   "source": [
    "import pandas as pd\n",
    "rating = pd.read_csv('https://query.data.world/s/EX0EpmqwfA2UYGz1Xtd_zi4R0dQpog')\n",
    "\n",
    "rating_update = rating.drop_duplicates()\n",
    "\n",
    "print(rating.shape)\n",
    "print(rating_update.shape)"
   ]
  }
 ],
 "metadata": {
  "kernelspec": {
   "display_name": "Python 3",
   "language": "python",
   "name": "python3"
  },
  "language_info": {
   "codemirror_mode": {
    "name": "ipython",
    "version": 3
   },
   "file_extension": ".py",
   "mimetype": "text/x-python",
   "name": "python",
   "nbconvert_exporter": "python",
   "pygments_lexer": "ipython3",
   "version": "3.6.4"
  }
 },
 "nbformat": 4,
 "nbformat_minor": 2
}
