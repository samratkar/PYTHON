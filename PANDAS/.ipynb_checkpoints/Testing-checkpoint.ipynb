{
 "cells": [
  {
   "cell_type": "code",
   "execution_count": null,
   "metadata": {},
   "outputs": [],
   "source": [
    "# %load DATAFRAME.py\n",
    "import pandas as pd \n",
    "s1 = pd.Series({'Name':'Samrat', 'Age': 39, 'Profession':'Professor CS'})\n",
    "s2 = pd.Series({'Name':'Mohan', 'Age': 40, 'Profession':'IT Professional'})\n",
    "s3 = pd.Series({'Name':'Raghu', 'Roll': 50, 'Profession':'Butler'})\n",
    "s1\n",
    "s2\n",
    "s3\n",
    "df = pd.DataFrame({'Class1': s1, 'Class2': s2, 'Class3':s3})\n",
    "df\n",
    "print (\"Hello World from jyptero\")"
   ]
  }
 ],
 "metadata": {
  "kernelspec": {
   "display_name": "Python 3",
   "language": "python",
   "name": "python3"
  },
  "language_info": {
   "codemirror_mode": {
    "name": "ipython",
    "version": 3
   },
   "file_extension": ".py",
   "mimetype": "text/x-python",
   "name": "python",
   "nbconvert_exporter": "python",
   "pygments_lexer": "ipython3",
   "version": "3.6.5"
  }
 },
 "nbformat": 4,
 "nbformat_minor": 2
}
